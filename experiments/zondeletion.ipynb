{
 "cells": [
  {
   "cell_type": "code",
   "execution_count": 1,
   "metadata": {},
   "outputs": [
    {
     "name": "stderr",
     "output_type": "stream",
     "text": [
      "/home/aman/WorkoutVideoClassification/env/lib/python3.10/site-packages/tqdm/auto.py:21: TqdmWarning: IProgress not found. Please update jupyter and ipywidgets. See https://ipywidgets.readthedocs.io/en/stable/user_install.html\n",
      "  from .autonotebook import tqdm as notebook_tqdm\n"
     ]
    }
   ],
   "source": [
    "import os\n",
    "import datasets\n",
    "import ffmpeg"
   ]
  },
  {
   "cell_type": "markdown",
   "metadata": {},
   "source": [
    "# Zone Identified Deletions"
   ]
  },
  {
   "cell_type": "code",
   "execution_count": 27,
   "metadata": {},
   "outputs": [
    {
     "ename": "",
     "evalue": "",
     "output_type": "error",
     "traceback": [
      "\u001b[1;31mThe Kernel crashed while executing code in the current cell or a previous cell. \n",
      "\u001b[1;31mPlease review the code in the cell(s) to identify a possible cause of the failure. \n",
      "\u001b[1;31mClick <a href='https://aka.ms/vscodeJupyterKernelCrash'>here</a> for more info. \n",
      "\u001b[1;31mView Jupyter <a href='command:jupyter.viewOutput'>log</a> for further details."
     ]
    }
   ],
   "source": [
    "def load_video(filepath):\n",
    "    if not os.path.exists(filepath):\n",
    "        raise FileNotFoundError(f\"File not found: {filepath}\")\n",
    "    \n",
    "    out, err = (\n",
    "        ffmpeg\n",
    "        .input(filepath)\n",
    "        .output('pipe:', format='rawvideo', pix_fmt='rgb24', s='224x224')\n",
    "        .run(capture_stdout=True, capture_stderr=True)\n",
    "    )\n",
    "    \n",
    "    return out\n",
    "\n",
    "def get_class_label_mapping(data_dir):\n",
    "    classes = os.listdir(data_dir)\n",
    "    return {cls: idx for idx, cls in enumerate(classes)}\n",
    "\n",
    "def create_hf_dataset(data_dir):\n",
    "    class_mapping = get_class_label_mapping(data_dir)\n",
    "    videos = []\n",
    "    labels = []\n",
    "    \n",
    "    for class_name, class_idx in class_mapping.items():\n",
    "        class_dir = os.path.join(data_dir, class_name)\n",
    "        for video_file in os.listdir(class_dir):\n",
    "            video_path = os.path.join(class_dir, video_file)\n",
    "            video_data = load_video(video_path)\n",
    "            videos.append(video_data)\n",
    "            labels.append(class_idx)\n",
    "    \n",
    "    # Create a Hugging Face Dataset\n",
    "    dataset = datasets.Dataset.from_dict({\n",
    "        'video': videos,\n",
    "        'label': labels\n",
    "    })\n",
    "    \n",
    "    return dataset\n",
    "\n",
    "dataset = create_hf_dataset(r\"/home/aman/WorkoutVideoClassification/data\")"
   ]
  }
 ],
 "metadata": {
  "kernelspec": {
   "display_name": "env",
   "language": "python",
   "name": "python3"
  },
  "language_info": {
   "codemirror_mode": {
    "name": "ipython",
    "version": 3
   },
   "file_extension": ".py",
   "mimetype": "text/x-python",
   "name": "python",
   "nbconvert_exporter": "python",
   "pygments_lexer": "ipython3",
   "version": "3.10.12"
  }
 },
 "nbformat": 4,
 "nbformat_minor": 2
}
