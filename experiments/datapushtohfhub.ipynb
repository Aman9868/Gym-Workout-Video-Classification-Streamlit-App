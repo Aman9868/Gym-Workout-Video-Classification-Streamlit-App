{
 "cells": [
  {
   "cell_type": "code",
   "execution_count": 1,
   "metadata": {},
   "outputs": [
    {
     "name": "stderr",
     "output_type": "stream",
     "text": [
      "/home/aman/WorkoutVideoClassification/env/lib/python3.10/site-packages/tqdm/auto.py:21: TqdmWarning: IProgress not found. Please update jupyter and ipywidgets. See https://ipywidgets.readthedocs.io/en/stable/user_install.html\n",
      "  from .autonotebook import tqdm as notebook_tqdm\n"
     ]
    }
   ],
   "source": [
    "from huggingface_hub import HfApi"
   ]
  },
  {
   "cell_type": "code",
   "execution_count": 10,
   "metadata": {},
   "outputs": [
    {
     "name": "stderr",
     "output_type": "stream",
     "text": [
      "Workouts.tar: 100%|██████████| 2.23G/2.23G [03:08<00:00, 11.8MB/s]\n"
     ]
    },
    {
     "data": {
      "text/plain": [
       "CommitInfo(commit_url='https://huggingface.co/datasets/Amanaccessassist/Workout/commit/529cffdd5bef3a7526a47ef35ce635057fe9a7ea', commit_message='Upload folder using huggingface_hub', commit_description='', oid='529cffdd5bef3a7526a47ef35ce635057fe9a7ea', pr_url=None, repo_url=RepoUrl('https://huggingface.co/datasets/Amanaccessassist/Workout', endpoint='https://huggingface.co', repo_type='dataset', repo_id='Amanaccessassist/Workout'), pr_revision=None, pr_num=None)"
      ]
     },
     "execution_count": 10,
     "metadata": {},
     "output_type": "execute_result"
    }
   ],
   "source": [
    "from huggingface_hub import HfApi\n",
    "\n",
    "api = HfApi()\n",
    "dataset_repo = \"Amanaccessassist/Workout\"\n",
    "api.create_repo(repo_id=dataset_repo, repo_type=\"dataset\")\n",
    "\n",
    "# Upload the dataset\n",
    "api.upload_folder(\n",
    "    folder_path=\"/home/aman/WorkoutVideoClassification/Data\",\n",
    "    path_in_repo=\".\",  \n",
    "    repo_id=dataset_repo,\n",
    "    repo_type=\"dataset\"\n",
    ")\n"
   ]
  }
 ],
 "metadata": {
  "kernelspec": {
   "display_name": "env",
   "language": "python",
   "name": "python3"
  },
  "language_info": {
   "codemirror_mode": {
    "name": "ipython",
    "version": 3
   },
   "file_extension": ".py",
   "mimetype": "text/x-python",
   "name": "python",
   "nbconvert_exporter": "python",
   "pygments_lexer": "ipython3",
   "version": "3.10.12"
  }
 },
 "nbformat": 4,
 "nbformat_minor": 2
}
