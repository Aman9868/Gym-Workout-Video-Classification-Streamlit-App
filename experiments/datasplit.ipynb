{
 "cells": [
  {
   "cell_type": "code",
   "execution_count": 1,
   "metadata": {},
   "outputs": [
    {
     "name": "stderr",
     "output_type": "stream",
     "text": [
      "/home/aman/WorkoutVideoClassification/env/lib/python3.10/site-packages/tqdm/auto.py:21: TqdmWarning: IProgress not found. Please update jupyter and ipywidgets. See https://ipywidgets.readthedocs.io/en/stable/user_install.html\n",
      "  from .autonotebook import tqdm as notebook_tqdm\n"
     ]
    }
   ],
   "source": [
    "import os\n",
    "import datasets\n",
    "import ffmpeg"
   ]
  },
  {
   "cell_type": "code",
   "execution_count": 3,
   "metadata": {},
   "outputs": [
    {
     "name": "stdout",
     "output_type": "stream",
     "text": [
      "Processing class: Triceps Pushdown\n",
      "Processing class: Chest Fly\n",
      "Processing class: Squats\n",
      "Processing class: Lateral Raise\n",
      "Processing class: Romanian Deadlift\n",
      "Processing class: Triceps Dips\n",
      "Processing class: incline bench press\n",
      "Processing class: Leg Raises\n",
      "Processing class: Tbar Row\n",
      "Processing class: Pull Up\n",
      "Processing class: Lat PullDown\n",
      "Processing class: Bench Press\n",
      "Processing class: Deadlift\n",
      "Processing class: Push Up\n",
      "Processing class: Hammer Curl\n",
      "Processing class: Russian Twist\n",
      "Processing class: Hip Thrust\n",
      "Processing class: Barbell Biceps Curl\n",
      "Processing class: Leg Extension\n",
      "Processing class: Plank\n",
      "Processing class: Shoulder Press\n",
      "Processing class: Decline Bench Press\n",
      "Dataset has been successfully split into train, val, and test sets!\n"
     ]
    }
   ],
   "source": [
    "import os\n",
    "import shutil\n",
    "import random\n",
    "from pathlib import Path\n",
    "\n",
    "original_dataset_dir = Path(\"/home/aman/WorkoutVideoClassification/Workout\")  \n",
    "output_dataset_dir = Path(\"Workouts\")  \n",
    "\n",
    "# Create output directories for train/val/test sets\n",
    "train_dir = output_dataset_dir / \"train\"\n",
    "val_dir = output_dataset_dir / \"val\"\n",
    "test_dir = output_dataset_dir / \"test\"\n",
    "train_dir.mkdir(parents=True, exist_ok=True)\n",
    "val_dir.mkdir(parents=True, exist_ok=True)\n",
    "test_dir.mkdir(parents=True, exist_ok=True)\n",
    "#----Splits\n",
    "train_ratio = 0.8\n",
    "val_ratio = 0.1\n",
    "test_ratio = 0.1\n",
    "\n",
    "# Get all classes (subdirectories in the original dataset)\n",
    "class_names = [d.name for d in original_dataset_dir.iterdir() if d.is_dir()]\n",
    "\n",
    "for class_name in class_names:\n",
    "    print(f\"Processing class: {class_name}\")\n",
    "    class_dir = original_dataset_dir / class_name\n",
    "    \n",
    "    # Create corresponding class folders in train/val/test directories\n",
    "    train_class_dir = train_dir / class_name\n",
    "    val_class_dir = val_dir / class_name\n",
    "    test_class_dir = test_dir / class_name\n",
    "    train_class_dir.mkdir(parents=True, exist_ok=True)\n",
    "    val_class_dir.mkdir(parents=True, exist_ok=True)\n",
    "    test_class_dir.mkdir(parents=True, exist_ok=True)\n",
    "    \n",
    "   \n",
    "    video_files = list(class_dir.glob(\"*.mp4\"))  # Adjust the extension if needed\n",
    "    random.shuffle(video_files)\n",
    "    \n",
    "    # Split videos into train, val, test\n",
    "    total_videos = len(video_files)\n",
    "    train_count = int(total_videos * train_ratio)\n",
    "    val_count = int(total_videos * val_ratio)\n",
    "    \n",
    "    train_videos = video_files[:train_count]\n",
    "    val_videos = video_files[train_count:train_count + val_count]\n",
    "    test_videos = video_files[train_count + val_count:]\n",
    "    \n",
    "    for video in train_videos:\n",
    "        shutil.copy(video, train_class_dir / video.name)\n",
    "        \n",
    "    for video in val_videos:\n",
    "        shutil.copy(video, val_class_dir / video.name)\n",
    "    \n",
    "    for video in test_videos:\n",
    "        shutil.copy(video, test_class_dir / video.name)\n",
    "\n",
    "print(\"Dataset has been successfully split into train, val, and test sets!\")\n"
   ]
  }
 ],
 "metadata": {
  "kernelspec": {
   "display_name": "env",
   "language": "python",
   "name": "python3"
  },
  "language_info": {
   "codemirror_mode": {
    "name": "ipython",
    "version": 3
   },
   "file_extension": ".py",
   "mimetype": "text/x-python",
   "name": "python",
   "nbconvert_exporter": "python",
   "pygments_lexer": "ipython3",
   "version": "3.10.12"
  }
 },
 "nbformat": 4,
 "nbformat_minor": 2
}
